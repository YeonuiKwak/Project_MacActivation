{
 "cells": [
  {
   "cell_type": "code",
   "execution_count": null,
   "metadata": {},
   "outputs": [],
   "source": [
    "''' Filter transcripts with 3UTR >1000 nt using Dic fuction.\n",
    "Save last 500nt sequences\n",
    "This could be applied to generate 3UTR sequence of specific region'''\n",
    "\n",
    "'''usage:\n",
    "python3 step6_6mercount_frontandlast500regions.py <custom3UTR.fa> <all6merIDandAUcontent.txt> <kmercountinfront500.txt> <kmercountinlast500.txt>\n",
    "'''\n",
    "\n"
   ]
  },
  {
   "cell_type": "code",
   "execution_count": null,
   "metadata": {},
   "outputs": [],
   "source": [
    "\n"
   ]
  },
  {
   "cell_type": "code",
   "execution_count": 39,
   "metadata": {},
   "outputs": [],
   "source": [
    "inFile=open(\"custom3UTR.n.31490.fa\")"
   ]
  },
  {
   "cell_type": "code",
   "execution_count": 40,
   "metadata": {},
   "outputs": [],
   "source": [
    "line = inFile.readlines()"
   ]
  },
  {
   "cell_type": "code",
   "execution_count": 41,
   "metadata": {},
   "outputs": [],
   "source": [
    "dic={}\n",
    "for i in range(0,len(line),2) :\n",
    "    if line[i].strip()[0]==\">\":\n",
    "        dic[line[i].strip()[1:]]=line[i+1]"
   ]
  },
  {
   "cell_type": "code",
   "execution_count": 42,
   "metadata": {},
   "outputs": [
    {
     "name": "stdout",
     "output_type": "stream",
     "text": [
      "[('ENST00000379370.6:1056116:chr1:1056108(+)', 'AGCTGGCACCAGAGCCCCGCGCCCGCTGTAATTATTTTCTATTTTTGTAAACTTGTTGCTTTTTGATATGATTTTCTTGCCTGAGTGTTGGCCGGAGGGACTGCTGGCCCGGCCTCCCTTCCGTCCAGGCAGCCGTGCTGCAGACAGACCTAGTGCCGAGGGATGGACAGGCGAGGTGGCAGCGTGGAGGGCTCGGCGTGGATGGCAGCCTCAGGACACACACCCCTGCCTCAAGGTGCTGAGCCCCCGCCTTGCACTGCGCCTGCCCCACGGTGTCCCCGCCGGGAAGCAGCCCCGGCT'), ('ENST00000379325.7:1081822:chr1:1081820(-)', 'AAGTCCAGCTCCACCCGAGGACAGACGCAGCCGGCCTCCGCCAGGCCCTCCTGAGCAGCCATCGCTTCAGTGGTGCTGGGTCAGGCGGACCCAAGAGTCAGCCCGTACGGAAGCCGCGCTACGTCAGGCGGGAGCGGCCCCTGGACAGGGCCACGGATCCCGCTGCCTTCCCGGGGGAGGCCCGTATCAGCAATGTCTGACCTGGAGGCCGAGACCACGCCACGCACTTGGCGGCAGGGACCCGGAGGCCGACCCCTTGGCGGGAACCAGCACAAAGTGTTGGCATCGCCCGGCGCCCGG'), ('ENST00000360001.10:1216907:chr1:1216879(-)', 'AGCGCCCGGCCGCGCCCCGCGCCGCCCCCCACGCACCACCGGGGCGGCCTCGCGGGTGACTCCGGGCTCCGTGGCTGTCCCGGACCCCACCTCTTCCCTGCCGCCCGCCACCGGCCGACCGACCGCGGCTGCCCCAGTTGATGAGCGGCGTGTCCCCTCTGCAGCGCGCACCCCGGCGGGGCTTTGGCTGTGACGCGGTCGGGGCGCGGGGCTGGGCTGTGGCCCCGCGGCGCCGCCTCCTCCCTGGTCCCTCGAAATCGTGGCATCTCACTTCTGAGAACGAAATCTCGCTTCAGTCAC'), ('ENST00000263741.11:1216930:chr1:1216924(-)', 'AACGAGTACAACGCGCTGAACGAGGCCAAGCAGATGATCGCCGTCGCCGACGAGAACCAGAACCACCACCTGGAGCCCGAGGAGGTGCTCAAGTACAGCGAGTTCTTCACGGGCAGCAAGCTGGTGGACTACGCGCGCAGCGTGCACGAGGAGTTTTGAGCGCCCGGCCGCGCCCCGCGCCGCCCCCCACGCACCACCGGGGCGGCCTCGCGGGTGACTCCGGGCTCCGTGGCTGTCCCGGACCCCACCTCTTCCCTGCCGCCCGCCACCGGCCGACCGACCGCGGCTGCCCCAGTTGAT')]\n"
     ]
    },
    {
     "data": {
      "text/plain": [
       "17359"
      ]
     },
     "execution_count": 42,
     "metadata": {},
     "output_type": "execute_result"
    }
   ],
   "source": [
    "#1.Front and Last 500 nt region sequence was extracted\n",
    "front={}\n",
    "last={}\n",
    "\n",
    "for key, val in dic.items():\n",
    "    if len(val)>=600:\n",
    "        #outFile.write(key+'\\t'+val.strip()[-300:]+'\\n')\n",
    "        front[key]=val.strip()[:300]\n",
    "        last[key]=val.strip()[-300:]\n",
    "\n",
    "print(list(front.items())[1:5])\n",
    "len(list(front.items()))#17359"
   ]
  },
  {
   "cell_type": "code",
   "execution_count": 43,
   "metadata": {},
   "outputs": [],
   "source": [
    "#2.\n",
    "\n",
    "kmer_front_final={}\n",
    "kmer_last_final={}\n",
    "\n",
    "\n",
    "\n",
    "#count k-mers\n",
    "for key in front:\n",
    "    kmerdic={}\n",
    "    i=0\n",
    "    while i<(295):\n",
    "        x=front[key][i:i+6]\n",
    "        if x in kmerdic:\n",
    "            kmerdic[x]+=1\n",
    "        else:\n",
    "            kmerdic[x]=1\n",
    "        i=i+1\n",
    "\n",
    "    kmer_front_final[key]=kmerdic\n",
    "\n",
    "for key in last:\n",
    "    kmerdic={}\n",
    "    i=0\n",
    "    while i<(295):\n",
    "        x=last[key][i:i+6]\n",
    "        if x in kmerdic:\n",
    "            kmerdic[x]+=1\n",
    "        else:\n",
    "            kmerdic[x]=1\n",
    "        i=i+1\n",
    "\n",
    "    kmer_last_final[key]=kmerdic\n"
   ]
  },
  {
   "cell_type": "code",
   "execution_count": 44,
   "metadata": {},
   "outputs": [],
   "source": [
    "outFile_f=open(\"front300_6mertable.txt\",\"w\")\n",
    "outFile_l=open(\"last300_6mertable.txt\",\"w\")"
   ]
  },
  {
   "cell_type": "code",
   "execution_count": 45,
   "metadata": {},
   "outputs": [
    {
     "data": {
      "text/plain": [
       "1"
      ]
     },
     "execution_count": 45,
     "metadata": {},
     "output_type": "execute_result"
    }
   ],
   "source": [
    "#3. Load all 6-mer species\n",
    "kmerlist=open(\"all6merIDandAUcontent.txt\")\n",
    "kmer=[]\n",
    "for x in kmerlist:\n",
    "    kmer.append(x.split(\"\\t\")[0])\n",
    "    #first column:6-mer species, secondcolumn : number of AU\n",
    "    #count each of individaul 6-mer sequences in a given transcript.\n",
    "\n",
    "outFile_f.write(\"id\\t\")\n",
    "outFile_l.write(\"id\\t\")\n",
    "for x in kmer:\n",
    "    #Column name generation\n",
    "    outFile_f.write(x+\"\\t\")\n",
    "    outFile_l.write(x+\"\\t\")\n",
    "outFile_l.write(\"\\n\")\n",
    "outFile_f.write(\"\\n\")"
   ]
  },
  {
   "cell_type": "code",
   "execution_count": 46,
   "metadata": {},
   "outputs": [],
   "source": [
    "#4. Build 6-mer count tables for the front 500 nucleotide regions.\n",
    "\n",
    "#front region 500nt\n",
    "\n",
    "for id in kmer_front_final:\n",
    "    outFile_f.write(id+\"\\t\")\n",
    "    for a in kmer:\n",
    "        if a not in kmer_front_final[id].keys():\n",
    "            outFile_f.write(str(0)+\"\\t\")\n",
    "        else:\n",
    "            outFile_f.write(str(kmer_front_final[id][a])+\"\\t\")\n",
    "    outFile_f.write(\"\\n\")\n",
    "\n",
    "#last region 500nt\n",
    "\n",
    "for id in kmer_last_final:\n",
    "    outFile_l.write(id+\"\\t\")\n",
    "    for a in kmer:\n",
    "        if a not in kmer_last_final[id].keys():\n",
    "            outFile_l.write(str(0)+\"\\t\")\n",
    "        else:\n",
    "            outFile_l.write(str(kmer_last_final[id][a])+\"\\t\")\n",
    "    outFile_l.write(\"\\n\")\n"
   ]
  },
  {
   "cell_type": "code",
   "execution_count": 47,
   "metadata": {},
   "outputs": [],
   "source": [
    "outFile_l.close()\n",
    "outFile_f.close()"
   ]
  },
  {
   "cell_type": "code",
   "execution_count": 51,
   "metadata": {},
   "outputs": [
    {
     "ename": "ValueError",
     "evalue": "I/O operation on closed file.",
     "output_type": "error",
     "traceback": [
      "\u001b[0;31m---------------------------------------------------------------------------\u001b[0m",
      "\u001b[0;31mValueError\u001b[0m                                Traceback (most recent call last)",
      "\u001b[0;32m<ipython-input-51-87faa46147c9>\u001b[0m in \u001b[0;36m<module>\u001b[0;34m\u001b[0m\n\u001b[0;32m----> 1\u001b[0;31m \u001b[0mlen\u001b[0m\u001b[0;34m(\u001b[0m\u001b[0moutFile_l\u001b[0m\u001b[0;34m.\u001b[0m\u001b[0mreadlines\u001b[0m\u001b[0;34m(\u001b[0m\u001b[0;34m)\u001b[0m\u001b[0;34m)\u001b[0m\u001b[0;34m\u001b[0m\u001b[0;34m\u001b[0m\u001b[0m\n\u001b[0m",
      "\u001b[0;31mValueError\u001b[0m: I/O operation on closed file."
     ]
    }
   ],
   "source": []
  },
  {
   "cell_type": "code",
   "execution_count": 52,
   "metadata": {},
   "outputs": [
    {
     "data": {
      "text/plain": [
       "17360"
      ]
     },
     "execution_count": 52,
     "metadata": {},
     "output_type": "execute_result"
    }
   ],
   "source": [
    "test=open(\"front300_6mertable.txt\")\n",
    "len(test.readlines())"
   ]
  },
  {
   "cell_type": "code",
   "execution_count": null,
   "metadata": {},
   "outputs": [],
   "source": []
  }
 ],
 "metadata": {
  "kernelspec": {
   "display_name": "Python 3",
   "language": "python",
   "name": "python3"
  },
  "language_info": {
   "codemirror_mode": {
    "name": "ipython",
    "version": 3
   },
   "file_extension": ".py",
   "mimetype": "text/x-python",
   "name": "python",
   "nbconvert_exporter": "python",
   "pygments_lexer": "ipython3",
   "version": "3.8.0"
  }
 },
 "nbformat": 4,
 "nbformat_minor": 4
}
