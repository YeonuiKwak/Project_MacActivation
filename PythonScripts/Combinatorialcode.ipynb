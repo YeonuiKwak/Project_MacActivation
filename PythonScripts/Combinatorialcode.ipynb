{
 "cells": [
  {
   "cell_type": "code",
   "execution_count": null,
   "metadata": {},
   "outputs": [],
   "source": [
    "#CPE element and PAS position and count\n",
    "#for analysis of combinatorial code effects."
   ]
  },
  {
   "cell_type": "code",
   "execution_count": 1,
   "metadata": {},
   "outputs": [],
   "source": [
    "inFile=open(\"custom3UTR.n.31490.fa\")\n",
    "line = inFile.readlines()\n",
    "dic={}\n",
    "for i in range(0,len(line),2) :\n",
    "    if line[i].strip()[0]==\">\":\n",
    "        dic[line[i].strip()[1:]]=line[i+1].upper()"
   ]
  },
  {
   "cell_type": "code",
   "execution_count": 2,
   "metadata": {
    "scrolled": true
   },
   "outputs": [
    {
     "name": "stdout",
     "output_type": "stream",
     "text": [
      "[('ENST00000379410.7:975108:chr1:975191(+)', 'CTGGGGCCCTGAGTTCAGAGCCCGTCCCTCAGCTCCTGTTCCTTGGTGCCAGCAGCTGGGGCAGGGAAGGGTGGGAGGGGCCCCATCCAAAGGATGCCCTGGCCAGCGAGGCTGGGTCACAGGTCAGGGAGGTCCTGGCCGTCCACAGGGTCGGCCCTCAGCTCAGCCCGCCAGGAGTCAGGGAGGAGACTCGCTGGGAGTGGGAGGGCAGCACGGGCGTGAAGGTCGGAGGACAGAGAAAGGTCAGCAGGGTCAGAGTATGTGAGGTCAGAGGGCATGAGGGTCACAGGTCAGCAAGGTGTGAGGAGCACAAGCCAGGGTGCCCCGAGGAGGAGGGTGGGTGGGTCCTTGTGTGGCCTGGCGCGCACCACAGGGCAGCACGGGAGACGTTGACACCACCGGACGAGAAAGAAAAAAGAGAGAAGAGAGAGAGGAGAAGAGAGAAAAGAAGAGAAGAGAGAAGAGAAGAGAAGGAAAGAGAGAGAGAGAATAAGAAAAGG'), ('ENST00000379370.6:1056116:chr1:1056108(+)', 'CGTATCCCTCTGCCACACCCCAGGCCCTGCGAGGGGCTATCGAGAGGAGCTCACTGTGGGATGGGGTTGACCTCTGCCGCCTGCCTGGGTATCTGGGCCTGGCCATGGCTGTGTTCTTCATGTGTTGATTTTATTTGACCCCTGGAGTGGTGGGTCTCATCTTTCCCATCTCGCCTGAGAGCGGCTGAGGGCTGCCTCACTGCAAATCCTCCCCACAGCGTCAGTGAAAGTCGTCCTTGTCTCAGAATGACCAGGGGCCAGCCAGTGTCTGACCAAGGTCAAGGGGCAGGTGCAGAGGTGGCAGGGATGGCTCCGAAGCCAGAAATGCCTTAAACTGCAACGTCCCGTCCCTTCCCCACCCCCATCCCATCCCCACCCCCAGCCCCAGCCCAGTCCTCCTAGGAGCAGGACCCGATGAAGCGGGCGGCGGTGGGGCTGGGTGCCGTGTTACTAACTCTAGTATGTTTCTGTGTCAATCGCTGTGAAATAAAGTCTGAAAA'), ('ENST00000379325.7:1081822:chr1:1081820(-)', 'AAGCACGCAGCCACCCATTTCCGGAGCTGCAGGATAGAGCTTCCTCTTGATCTCTGTTTTTAAGCAGAAATTCATTGTGCAGAAAAGTCCTCCAGAGCTCTGTGGCCCCGCTCGGATCCGCTGGACCCCCATGCCTGGCTGATCCCTGCCCACGTGGGGCAGGCCCACATCTAACCCCCACAAGTCACTGCCTCACTGCACCTGCCAAGGCTGCCCTGGCGCTGAGTCCTGGGGTCCCTCCCGGAGTTCCTGGGAGAAAGGCGCCGTCGTGGCCGCCTCCCGCACGCCAGGCCCGGGCTCCACCGTGGGTCTCAGACGCCCTGCGGCACCGGCACCGTCTGCTTTAGCATGGGACCCCCCTCTGAGGGGTGGCCTGGCCTTCGGGGTCCCCACGCTCCTTTGCGAAGTCCACTGTGGGTGCCATCATGGTCTCCGGGACCTGGGCCAGCGGGAACGTGGGGGCACTGGGTGTGCTGATATAAAGTCGGCATTACTCAAGC'), ('ENST00000360001.10:1216907:chr1:1216879(-)', 'CCAGTTGATGAGCGGCGTGTCCCCTCTGCAGCGCGCACCCCGGCGGGGCTTTGGCTGTGACGCGGTCGGGGCGCGGGGCTGGGCTGTGGCCCCGCGGCGCCGCCTCCTCCCTGGTCCCTCGAAATCGTGGCATCTCACTTCTGAGAACGAAATCTCGCTTCAGTCACTCTGCCGAAGGCGCTGACGGCATCGCGGCCGGAACCTCTGGGCCCGGCCCCTCCCAGGGCCGCCGCTCCGTGGGAAAAAACAGCTCCTCCATTTCCTTGAAAACTGAACGATTATTAAAAATAGATTAAACTTCGCTGGAAATGAGTAGCCAGGAAGTTCAGGGGAGGGTGCCGGGTCCTTCCCGGGCCTGGCGTGTCGGAGCCACCCAGGTCCCGCAGCTGCCGCTGAGAAAATGCAAATATTTGTTGTGACAAGAATCACATACATTTACTTTAAATATAGTTGCCTTTTTTGGTCAGCTTCATTCTTTGGGCGTGAAACAAAACACAACA')]\n"
     ]
    },
    {
     "data": {
      "text/plain": [
       "19030"
      ]
     },
     "execution_count": 2,
     "metadata": {},
     "output_type": "execute_result"
    }
   ],
   "source": [
    "#1. Last 100 nt region sequence: count PAS and CPE\n",
    "last={}\n",
    "\n",
    "for key, val in dic.items():\n",
    "    if len(val)>=500:\n",
    "        #outFile.write(key+'\\t'+val.strip()[-300:]+'\\n')\n",
    "        last[key]=val.strip()[-500:]\n",
    "\n",
    "print(list(last.items())[1:5])\n",
    "len(list(last.items()))#17359"
   ]
  },
  {
   "cell_type": "code",
   "execution_count": 5,
   "metadata": {},
   "outputs": [
    {
     "data": {
      "text/plain": [
       "True"
      ]
     },
     "execution_count": 5,
     "metadata": {},
     "output_type": "execute_result"
    }
   ],
   "source": [
    "PASdic={}\n",
    "HEX_DIC=('AATAAA','ATTAAA','TATAAA','AGTAAA','AATACA',\n",
    "         'CATAAA','AATATA','GATAAA','AATGAA','AAGAAA','ACTAAA','AATAGA',\n",
    "         'AATAAT','AACAAA','ATTACA','ATTATA','AACAAG','AATAAG','AATAAC'\n",
    "         ,'TATATA','TTTAAA','AAAACA')\n"
   ]
  },
  {
   "cell_type": "code",
   "execution_count": 6,
   "metadata": {},
   "outputs": [],
   "source": [
    "for key, val in last.items():\n",
    "    PASdic[key]=[]\n",
    "    i=-1\n",
    "    utrlen=len(val)\n",
    "    while(i>=(-495)):\n",
    "        if (i ==-1):\n",
    "            hex_mer=val[-6:]\n",
    "            \n",
    "        else:\n",
    "            hex_mer=val[i-5:i+1]\n",
    "            \n",
    "        if (hex_mer in HEX_DIC):\n",
    "            PASdic[key].append(i)\n",
    "        i=i-1\n",
    "        "
   ]
  },
  {
   "cell_type": "code",
   "execution_count": 7,
   "metadata": {},
   "outputs": [],
   "source": [
    "#last dic: count and identify position of CPE\n",
    "#cpeb family: M012_0.6\n",
    "#M012_0.6,M120_0.6,M149_0.6\n",
    "\n",
    "#ZFP36/ZFP36L1/ZFP36L2\n",
    "#M263~M269, M350\n",
    "import numpy as np"
   ]
  },
  {
   "cell_type": "code",
   "execution_count": 8,
   "metadata": {},
   "outputs": [
    {
     "data": {
      "text/plain": [
       "{'A': 0, 'C': 1, 'G': 2, 'T': 3}"
      ]
     },
     "execution_count": 8,
     "metadata": {},
     "output_type": "execute_result"
    }
   ],
   "source": [
    "nucleotide_dic={}\n",
    "nucleotide_dic[\"A\"]=0\n",
    "nucleotide_dic[\"C\"]=1\n",
    "nucleotide_dic[\"G\"]=2\n",
    "nucleotide_dic[\"T\"]=3\n",
    "nucleotide_dic"
   ]
  },
  {
   "cell_type": "code",
   "execution_count": 9,
   "metadata": {},
   "outputs": [],
   "source": [
    "PWM={}\n",
    "zfp36=[\"M012\",\"M120\",\"M149\",\"M269\",\"M350\"]\n",
    "for file in zfp36:\n",
    "    \n",
    "    pwm=open(\"./Homo_sapiens_2019_04_05_3_29_pm/pwms_all_motifs/\"+file+\"_0.6.txt\",\"r\")\n",
    "    pwm=pwm.readlines()\n",
    "#convert the pwm to dictionary: key =ATGC, value=ppm\n",
    "    pwm_dic={}\n",
    "    for line in pwm:\n",
    "        if (line!=\"Pos\\tA\\tC\\tG\\tU\\n\"):\n",
    "            pwm_dic[(line.split(\"\\t\")[0])]=line.split(\"\\t\")[1:5]\n",
    "\n",
    "#pwm=log2(pwm/0.25)\n",
    "\n",
    "    for key, val in pwm_dic.items():\n",
    "        x=np.array(val)\n",
    "        x=np.log2((np.asarray(x,float)+0.01)/0.25)\n",
    "        pwm_dic[key]=x\n",
    "    PWM[file]=pwm_dic\n"
   ]
  },
  {
   "cell_type": "code",
   "execution_count": 15,
   "metadata": {},
   "outputs": [],
   "source": [
    "elavl1=[\"M031\",\"M108\",\"M112\",\"M127\",\"M232\"]\n",
    "for file in elavl1:\n",
    "    \n",
    "    pwm=open(\"./Homo_sapiens_2019_04_05_3_29_pm/pwms_all_motifs/\"+file+\"_0.6.txt\",\"r\")\n",
    "    pwm=pwm.readlines()\n",
    "#convert the pwm to dictionary: key =ATGC, value=ppm\n",
    "    pwm_dic={}\n",
    "    for line in pwm:\n",
    "        if (line!=\"Pos\\tA\\tC\\tG\\tU\\n\"):\n",
    "            pwm_dic[(line.split(\"\\t\")[0])]=line.split(\"\\t\")[1:5]\n",
    "\n",
    "#pwm=log2(pwm/0.25)\n",
    "\n",
    "    for key, val in pwm_dic.items():\n",
    "        x=np.array(val)\n",
    "        x=np.log2((np.asarray(x,float)+0.01)/0.25)\n",
    "        pwm_dic[key]=x\n",
    "    PWM[file]=pwm_dic\n"
   ]
  },
  {
   "cell_type": "code",
   "execution_count": 16,
   "metadata": {},
   "outputs": [
    {
     "data": {
      "text/plain": [
       "dict_keys(['M012', 'M120', 'M149', 'M269', 'M350', 'M031', 'M108', 'M112', 'M127', 'M232'])"
      ]
     },
     "execution_count": 16,
     "metadata": {},
     "output_type": "execute_result"
    }
   ],
   "source": [
    "PWM.keys()"
   ]
  },
  {
   "cell_type": "code",
   "execution_count": 17,
   "metadata": {},
   "outputs": [],
   "source": [
    "RBP={}\n",
    "for file, pwm_dic in PWM.items():\n",
    "    rbp_dic={}\n",
    "    for key, val in last.items():\n",
    "        rbp_dic[key]=[]\n",
    "        i=-1\n",
    "        utrlen=len(val)\n",
    "        motif_len=len(pwm_dic)\n",
    "        while(i>= (-1*utrlen+motif_len-1)):\n",
    "            if (i ==-1):\n",
    "                scan=val[-1*motif_len:]\n",
    "            \n",
    "            else:\n",
    "                scan=val[(i+1-1*motif_len):i+1]\n",
    "        \n",
    "            pwm_score=0\n",
    "            for key_ in pwm_dic :\n",
    "                pwm_score+=pwm_dic[key_][nucleotide_dic[scan[int(key_)-1]]]\n",
    "            if pwm_score >=5:\n",
    "                if len(rbp_dic[key])==0:\n",
    "                    rbp_dic[key].append(i)\n",
    "                    prev=i\n",
    "                else:\n",
    "                    if i != prev-1:\n",
    "                        rbp_dic[key].append(i)\n",
    "                    prev=i\n",
    "                    \n",
    "            i=i-1\n",
    "    RBP[file]=rbp_dic\n",
    "        \n",
    "    \n",
    "\n",
    "\n",
    "\n",
    "\n"
   ]
  },
  {
   "cell_type": "code",
   "execution_count": 18,
   "metadata": {},
   "outputs": [
    {
     "data": {
      "text/plain": [
       "dict_keys(['M012', 'M120', 'M149', 'M269', 'M350', 'M031', 'M108', 'M112', 'M127', 'M232'])"
      ]
     },
     "execution_count": 18,
     "metadata": {},
     "output_type": "execute_result"
    }
   ],
   "source": [
    "RBP.keys()"
   ]
  },
  {
   "cell_type": "code",
   "execution_count": 19,
   "metadata": {},
   "outputs": [],
   "source": [
    "outFile=open(\"last500_PAS_RBP_code_positions_all_flexPAS_Oct29.txt\",\"w\")\n",
    "\n"
   ]
  },
  {
   "cell_type": "code",
   "execution_count": 20,
   "metadata": {},
   "outputs": [],
   "source": [
    "outFile.write(\"id\"+\"\\t\"+\n",
    "              \"PASpos\"+\"\\t\"+\n",
    "              \"CPEpos_M012\"+\"\\t\"+\n",
    "              \"CPEpos_M120\"+\"\\t\"+\n",
    "              \"CPEpos_M149\"+\"\\t\"+\n",
    "              \"ZFP36pos_M269\"+\"\\t\"+\n",
    "              \"ZFP36pos_M350\"+\n",
    "             \"\\t\"+\"ELAVL1pos_M031\"+\n",
    "             \"\\t\"+\"ELAVL1pos_M108\"+\n",
    "             \"\\t\"+\"ELAVL1pos_M112\"+\n",
    "             \"\\t\"+\"ELAVL1pos_M127\"+\n",
    "             \"\\t\"+\"ELAVL1pos_M232\"+\"\\n\")\n",
    "for id in last:\n",
    "    outFile.write(id.strip()+\"\\t\"+\n",
    "                  str(PASdic[id])+\"\\t\"+\n",
    "                  str(RBP['M012'][id])+\"\\t\"+\n",
    "                  str(RBP['M120'][id])+\"\\t\"+\n",
    "                  str(RBP['M149'][id])+\"\\t\"+\n",
    "                  str(RBP['M269'][id])+\"\\t\"+\n",
    "                  str(RBP['M350'][id])+\"\\t\"+\n",
    "                  str(RBP['M031'][id])+\"\\t\"+\n",
    "                  str(RBP['M108'][id])+\"\\t\"+\n",
    "                  str(RBP['M112'][id])+\"\\t\"+\n",
    "                  str(RBP['M127'][id])+\"\\t\"+\n",
    "                    str(RBP['M232'][id])+\n",
    "                  \"\\n\")\n",
    "    \n",
    "    \n",
    "    \n",
    "    \n",
    "    \n",
    "    \n",
    "    \n",
    "    \n",
    "    "
   ]
  },
  {
   "cell_type": "code",
   "execution_count": 21,
   "metadata": {},
   "outputs": [],
   "source": [
    "outFile.close()"
   ]
  },
  {
   "cell_type": "code",
   "execution_count": null,
   "metadata": {},
   "outputs": [],
   "source": []
  },
  {
   "cell_type": "code",
   "execution_count": null,
   "metadata": {},
   "outputs": [],
   "source": []
  }
 ],
 "metadata": {
  "kernelspec": {
   "display_name": "Python 3",
   "language": "python",
   "name": "python3"
  },
  "language_info": {
   "codemirror_mode": {
    "name": "ipython",
    "version": 3
   },
   "file_extension": ".py",
   "mimetype": "text/x-python",
   "name": "python",
   "nbconvert_exporter": "python",
   "pygments_lexer": "ipython3",
   "version": "3.8.0"
  }
 },
 "nbformat": 4,
 "nbformat_minor": 5
}
