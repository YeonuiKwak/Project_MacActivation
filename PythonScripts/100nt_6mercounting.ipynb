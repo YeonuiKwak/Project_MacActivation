{
 "cells": [
  {
   "cell_type": "code",
   "execution_count": null,
   "metadata": {},
   "outputs": [],
   "source": [
    "''' Filter transcripts with 3UTR >1000 nt using Dic fuction.\n",
    "Save last 500nt sequences\n",
    "This could be applied to generate 3UTR sequence of specific region'''\n",
    "\n",
    "'''usage:\n",
    "python3 step6_6mercount_frontandlast500regions.py <custom3UTR.fa> <all6merIDandAUcontent.txt> <kmercountinfront500.txt> <kmercountinlast500.txt>\n",
    "'''\n",
    "\n"
   ]
  },
  {
   "cell_type": "code",
   "execution_count": null,
   "metadata": {},
   "outputs": [],
   "source": []
  },
  {
   "cell_type": "code",
   "execution_count": 26,
   "metadata": {},
   "outputs": [],
   "source": [
    "inFile=open(\"custom3UTR.n.31490.fa\")"
   ]
  },
  {
   "cell_type": "code",
   "execution_count": 27,
   "metadata": {},
   "outputs": [],
   "source": [
    "line = inFile.readlines()"
   ]
  },
  {
   "cell_type": "code",
   "execution_count": 28,
   "metadata": {},
   "outputs": [],
   "source": [
    "dic={}\n",
    "for i in range(0,len(line),2) :\n",
    "    if line[i].strip()[0]==\">\":\n",
    "        dic[line[i].strip()[1:]]=line[i+1]"
   ]
  },
  {
   "cell_type": "code",
   "execution_count": 29,
   "metadata": {},
   "outputs": [
    {
     "name": "stdout",
     "output_type": "stream",
     "text": [
      "[('ENST00000327044.6:944203:chr1:944237(-)', 'AGGCAGCCCATCTGGGGGGCCTGTAGGGGCTGCCGGGCTGGTGGCCAGTGTTTCCACCTCCCTGGCAGTCAGGCCTAGAGGCTGGCGTCTGTGCAGTTGG'), ('ENST00000379410.7:975108:chr1:975147(+)', 'ATGGCCGCGGTGAGGTGGGTTCTCAGGACCACCCTCGCCAAGCTCCAGGGTACCTGCCCCTCTAACCCACTTCAAATTACAAGTCAGGGTCTGAACCCAG'), ('ENST00000379410.7:975108:chr1:975191(+)', 'ATGGCCGCGGTGAGGTGGGTTCTCAGGACCACCCTCGCCAAGCTCCAGGGTACCTGCCCCTCTAACCCACTTCAAATTACAAGTCAGGGTCTGAACCCAG'), ('ENST00000379370.6:1056116:chr1:1056108(+)', 'AGCTGGCACCAGAGCCCCGCGCCCGCTGTAATTATTTTCTATTTTTGTAAACTTGTTGCTTTTTGATATGATTTTCTTGCCTGAGTGTTGGCCGGAGGGA')]\n"
     ]
    }
   ],
   "source": [
    "#1.Front and Last 500 nt region sequence was extracted\n",
    "front={}\n",
    "last={}\n",
    "\n",
    "for key, val in dic.items():\n",
    "    if len(val)>=200:\n",
    "        #outFile.write(key+'\\t'+val.strip()[-300:]+'\\n')\n",
    "        front[key]=val.strip()[:100]\n",
    "        last[key]=val.strip()[-100:]\n",
    "\n",
    "print(list(front.items())[1:5])"
   ]
  },
  {
   "cell_type": "code",
   "execution_count": 31,
   "metadata": {},
   "outputs": [
    {
     "data": {
      "text/plain": [
       "25587"
      ]
     },
     "execution_count": 31,
     "metadata": {},
     "output_type": "execute_result"
    }
   ],
   "source": [
    "len(list(front.items())) #25587"
   ]
  },
  {
   "cell_type": "code",
   "execution_count": 32,
   "metadata": {},
   "outputs": [],
   "source": [
    "#2.\n",
    "\n",
    "kmer_front_final={}\n",
    "kmer_last_final={}\n",
    "\n",
    "\n",
    "\n",
    "#count k-mers\n",
    "for key in front:\n",
    "    kmerdic={}\n",
    "    i=0\n",
    "    while i<(95):\n",
    "        x=front[key][i:i+6]\n",
    "        if x in kmerdic:\n",
    "            kmerdic[x]+=1\n",
    "        else:\n",
    "            kmerdic[x]=1\n",
    "        i=i+1\n",
    "\n",
    "    kmer_front_final[key]=kmerdic\n",
    "\n",
    "for key in last:\n",
    "    kmerdic={}\n",
    "    i=0\n",
    "    while i<(95):\n",
    "        x=last[key][i:i+6]\n",
    "        if x in kmerdic:\n",
    "            kmerdic[x]+=1\n",
    "        else:\n",
    "            kmerdic[x]=1\n",
    "        i=i+1\n",
    "\n",
    "    kmer_last_final[key]=kmerdic\n"
   ]
  },
  {
   "cell_type": "code",
   "execution_count": 33,
   "metadata": {},
   "outputs": [],
   "source": [
    "outFile_f=open(\"front100_6mertable.txt\",\"w\")\n",
    "outFile_l=open(\"last100_6mertable.txt\",\"w\")"
   ]
  },
  {
   "cell_type": "code",
   "execution_count": 34,
   "metadata": {},
   "outputs": [
    {
     "data": {
      "text/plain": [
       "1"
      ]
     },
     "execution_count": 34,
     "metadata": {},
     "output_type": "execute_result"
    }
   ],
   "source": [
    "#3. Load all 6-mer species\n",
    "kmerlist=open(\"all6merIDandAUcontent.txt\")\n",
    "kmer=[]\n",
    "for x in kmerlist:\n",
    "    kmer.append(x.split(\"\\t\")[0])\n",
    "    #first column:6-mer species, secondcolumn : number of AU\n",
    "    #count each of individaul 6-mer sequences in a given transcript.\n",
    "\n",
    "outFile_f.write(\"id\\t\")\n",
    "outFile_l.write(\"id\\t\")\n",
    "for x in kmer:\n",
    "    #Column name generation\n",
    "    outFile_f.write(x+\"\\t\")\n",
    "    outFile_l.write(x+\"\\t\")\n",
    "outFile_l.write(\"\\n\")\n",
    "outFile_f.write(\"\\n\")"
   ]
  },
  {
   "cell_type": "code",
   "execution_count": 35,
   "metadata": {},
   "outputs": [],
   "source": [
    "#4. Build 6-mer count tables for the front 500 nucleotide regions.\n",
    "\n",
    "#front region 500nt\n",
    "\n",
    "for id in kmer_front_final:\n",
    "    outFile_f.write(id+\"\\t\")\n",
    "    for a in kmer:\n",
    "        if a not in kmer_front_final[id].keys():\n",
    "            outFile_f.write(str(0)+\"\\t\")\n",
    "        else:\n",
    "            outFile_f.write(str(kmer_front_final[id][a])+\"\\t\")\n",
    "    outFile_f.write(\"\\n\")\n",
    "\n",
    "#last region 500nt\n",
    "\n",
    "for id in kmer_last_final:\n",
    "    outFile_l.write(id+\"\\t\")\n",
    "    for a in kmer:\n",
    "        if a not in kmer_last_final[id].keys():\n",
    "            outFile_l.write(str(0)+\"\\t\")\n",
    "        else:\n",
    "            outFile_l.write(str(kmer_last_final[id][a])+\"\\t\")\n",
    "    outFile_l.write(\"\\n\")\n"
   ]
  },
  {
   "cell_type": "code",
   "execution_count": 36,
   "metadata": {},
   "outputs": [],
   "source": [
    "outFile_l.close()\n",
    "outFile_f.close()"
   ]
  },
  {
   "cell_type": "code",
   "execution_count": 38,
   "metadata": {},
   "outputs": [
    {
     "data": {
      "text/plain": [
       "25588"
      ]
     },
     "execution_count": 38,
     "metadata": {},
     "output_type": "execute_result"
    }
   ],
   "source": []
  },
  {
   "cell_type": "code",
   "execution_count": null,
   "metadata": {},
   "outputs": [],
   "source": []
  }
 ],
 "metadata": {
  "kernelspec": {
   "display_name": "Python 3",
   "language": "python",
   "name": "python3"
  },
  "language_info": {
   "codemirror_mode": {
    "name": "ipython",
    "version": 3
   },
   "file_extension": ".py",
   "mimetype": "text/x-python",
   "name": "python",
   "nbconvert_exporter": "python",
   "pygments_lexer": "ipython3",
   "version": "3.8.0"
  }
 },
 "nbformat": 4,
 "nbformat_minor": 4
}
